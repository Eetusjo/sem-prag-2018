{
 "cells": [
  {
   "cell_type": "markdown",
   "metadata": {},
   "source": [
    "# Lab 1 home assignment: Python basics\n",
    "---"
   ]
  },
  {
   "cell_type": "code",
   "execution_count": 1,
   "metadata": {
    "scrolled": true
   },
   "outputs": [
    {
     "name": "stdout",
     "output_type": "stream",
     "text": [
      "*** Introductory Examples for the NLTK Book ***\n",
      "Loading text1, ..., text9 and sent1, ..., sent9\n",
      "Type the name of the text or sentence to view it.\n",
      "Type: 'texts()' or 'sents()' to list the materials.\n",
      "text1: Moby Dick by Herman Melville 1851\n",
      "text2: Sense and Sensibility by Jane Austen 1811\n",
      "text3: The Book of Genesis\n",
      "text4: Inaugural Address Corpus\n",
      "text5: Chat Corpus\n",
      "text6: Monty Python and the Holy Grail\n",
      "text7: Wall Street Journal\n",
      "text8: Personals Corpus\n",
      "text9: The Man Who Was Thursday by G . K . Chesterton 1908\n"
     ]
    }
   ],
   "source": [
    "import nltk\n",
    "from nltk.book import *"
   ]
  },
  {
   "cell_type": "markdown",
   "metadata": {},
   "source": [
    "## Part 1 .\n",
    "---\n",
    "#### Ex 1.1 "
   ]
  },
  {
   "cell_type": "code",
   "execution_count": 11,
   "metadata": {},
   "outputs": [
    {
     "name": "stdout",
     "output_type": "stream",
     "text": [
      "260819\n",
      "17231\n"
     ]
    }
   ],
   "source": [
    "vocabulary = set()\n",
    "for word in text1:\n",
    "    vocabulary.add(word.lower())\n",
    "    \n",
    "print(len(text1))\n",
    "print(len(vocabulary))"
   ]
  },
  {
   "cell_type": "markdown",
   "metadata": {},
   "source": [
    "#### Ex 1.2"
   ]
  },
  {
   "cell_type": "code",
   "execution_count": 15,
   "metadata": {},
   "outputs": [],
   "source": [
    "def type_amount(text):\n",
    "    vocabulary = set()\n",
    "    for word in text:\n",
    "        vocabulary.add(word.lower())\n",
    "    \n",
    "    return len(vocabulary)"
   ]
  },
  {
   "cell_type": "markdown",
   "metadata": {},
   "source": [
    "#### Ex 1.3"
   ]
  },
  {
   "cell_type": "code",
   "execution_count": 20,
   "metadata": {},
   "outputs": [],
   "source": [
    "def frequency_of(text, word):\n",
    "    amt = 0\n",
    "    for w in text:\n",
    "        if w.lower() == word:\n",
    "            amt += 1\n",
    "    \n",
    "    return amt"
   ]
  },
  {
   "cell_type": "markdown",
   "metadata": {},
   "source": [
    "## Part 2.\n",
    "---\n",
    "In the lecture slides we saw the following example of **entailment**:\n",
    "\n",
    "    “All cats like milk.”\n",
    "    “Petteri is a cat.”\n",
    "    Therefore: “Petteri likes milk.”\n",
    "    \n",
    "In this exercise you will implement a few functions that you can use to make inferences about cats and liking milk (not only about Petteri but other cats and non-cats as well). For the purpose of making this exercise clearer, let's rearrange the premises and add one more condition:\n",
    "\n",
    "    “Petteri is a cat.”                (1)\n",
    "    “All cats like milk.”              (2)\n",
    "    Therefore: “Petteri likes milk.”   (3)\n",
    "    \n",
    "    In addition: “Only cats like milk“ (4)\n",
    "\n",
    "#### Ex 2.1\n",
    "\n",
    "1. Define a function `is_cat(name)` that takes as an argument a string `name` and returns a boolean value `True/False` depending on whether `name` is a cat. Invent your own rules for deciding whether someone is a cat or not. You should have at least **X** different types of rules for determining the catness of `name`.\n",
    "\n",
    "2. Define a function `likes_milk(name)` that takes as an argument a string `name` and returns a boolean value `True/False` depending on whether `name` likes milk.\n",
    "\n",
    "3. Print out **Y** examples of both, names that do not like milk, and names that do like milk.\n",
    "\n",
    "4. Why do we need the condition (4) above to make this exercise work?"
   ]
  },
  {
   "cell_type": "code",
   "execution_count": 24,
   "metadata": {},
   "outputs": [
    {
     "name": "stdout",
     "output_type": "stream",
     "text": [
      "True\n",
      "True\n",
      "False\n"
     ]
    }
   ],
   "source": [
    "def is_cat(name):\n",
    "    if name in {\"John\", \"Madeleine\"} or name[0].lower() == \"p\":\n",
    "        return True\n",
    "    else:\n",
    "        return False\n",
    "\n",
    "def likes_milk(name):\n",
    "    if is_cat(name):\n",
    "        return True\n",
    "    else:\n",
    "        return False\n",
    "    \n",
    "print(likes_milk(\"Petteri\"))\n",
    "print(likes_milk(\"John\"))\n",
    "print(likes_milk(\"Maria\"))"
   ]
  }
 ],
 "metadata": {
  "kernelspec": {
   "display_name": "Python 3",
   "language": "python",
   "name": "python3"
  },
  "language_info": {
   "codemirror_mode": {
    "name": "ipython",
    "version": 3
   },
   "file_extension": ".py",
   "mimetype": "text/x-python",
   "name": "python",
   "nbconvert_exporter": "python",
   "pygments_lexer": "ipython3",
   "version": "3.6.1"
  }
 },
 "nbformat": 4,
 "nbformat_minor": 2
}
