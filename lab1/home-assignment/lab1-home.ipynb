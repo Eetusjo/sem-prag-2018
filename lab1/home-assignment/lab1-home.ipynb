{
 "cells": [
  {
   "cell_type": "markdown",
   "metadata": {},
   "source": [
    "# Lab 1 home assignment: Python basics\n",
    "---\n",
    "\n",
    "This homework is split into two parts. The exercises in Part 1 are concerned with basic string and text processing. In Part 2 we implement some of the ideas of first order predicate logic as Python functions. \n",
    "\n",
    "Remember, you can always ask for help on the Moodle discussion forum, as well as visit Mathias or Eetu during the specified office hours. Discussions between student colleagues is encouraged, but always implement your own solutions and do not copy your friend's answers. \n",
    "\n",
    "An additional source for reading is the the [Chapter 1](http://www.nltk.org/book/ch01.html) in the book [Natural Language Processing with Python](http://www.nltk.org/book/). The first chapter covers a lot of additional material as well, so be selective if you decide to read it. Most relevant for this lab are the sections 1.4, 2 and 4.\n",
    "\n",
    "Have fun and good luck!\n",
    "\n",
    "## Part 1 .\n",
    "\n",
    "---\n",
    "\n",
    "In the first code cell below we import some data to work with. You don't need to worry about this code cell too much, but here is what it does in a nutshell: **from** tells us from which package we want to get data. We have installed the *nltk* package for you in the background so just take its existence for granted. After **import** we list what pieces of data we want to import, and because the data have non-descriptive names (text1, text2), we also rename them using the **as** keyword. \n",
    "\n",
    "The two texts we import are Herman Melville's *Moby Dick* and Jane Austen's *Sense and Sensibility*. As a result of the importing we have for our use two lists containing the word tokens of the texts. These lists are contained in the variables '`moby_dick`' and '`sense_and_sensibility`'. In the second code cell below we print out the first few of the texts to make sure we got the right data. \n",
    "\n",
    "We will use these two texts in all of the exercises in Part 1. Remember, if you restart the notebook (kernel), you need to import these again."
   ]
  },
  {
   "cell_type": "code",
   "execution_count": null,
   "metadata": {
    "collapsed": true,
    "scrolled": true
   },
   "outputs": [],
   "source": [
    "from nltk.book import text1 as moby_dick, text2 as sense_and_sensibility"
   ]
  },
  {
   "cell_type": "code",
   "execution_count": null,
   "metadata": {
    "collapsed": true
   },
   "outputs": [],
   "source": [
    "print(sense_and_sensibility[:10])\n",
    "print(moby_dick[:10])"
   ]
  },
  {
   "cell_type": "markdown",
   "metadata": {},
   "source": [
    "---\n",
    "\n",
    "### Ex 1.1\n",
    "\n",
    "In this exercise we will recall some of the things we learned about lists and sets in the class. Our task is to calculate the number of word tokens and word types in *Moby Dick*. The simplest way of doing this will be using the `len` and `set` functions as we saw in the class. \n",
    "\n",
    "Alternatively, you can use iteration (for-loop) to go through the texts and add new items to the vocabulary one by one. For this solution you need two new constructs:\n",
    "\n",
    "    vocabulary = set()     # This initializes an empty set\n",
    "    vocabulary.add(\"word\") # This is how you can add new items to the set\n",
    "    \n",
    "Your code should output two lines:\n",
    "\n",
    "    The number of word tokens in Moby Dick: 260819\n",
    "    The number of word types in Moby Dick: 19317\n",
    "    \n",
    "These are the correct token and type counts as well, so make sure your output matches these number exactly."
   ]
  },
  {
   "cell_type": "code",
   "execution_count": null,
   "metadata": {
    "collapsed": true
   },
   "outputs": [],
   "source": [
    "# Code your answer to Ex 1.1 here\n"
   ]
  },
  {
   "cell_type": "markdown",
   "metadata": {},
   "source": [
    "---\n",
    "\n",
    "**1.1 in a nutshell + grading:**\n",
    "\n",
    "1. Calculate the word token count of *Moby Dick*.\n",
    "2. Calculate the word type count of *Moby Dick*\n",
    "3. Print out the word token and type counts.\n",
    "\n",
    "You can get a maximum of 0.5 points from this exercise. Partial points can also be awarded so please return even incomplete solutions. \n",
    "\n",
    "---"
   ]
  },
  {
   "cell_type": "markdown",
   "metadata": {},
   "source": [
    "---\n",
    "\n",
    "### Ex 1.2\n",
    "\n",
    "Let's continue with the theme of calculating type counts. In the next few exercises we will recall what we learned about functions. \n",
    "\n",
    "Your second task is to implement what you did above, but this time turn it into a function `type_count(text)`. The function should take in a list of text and output its number of word types. Refer back to the class assignments if you need a refresher on functions.\n",
    "\n",
    "So, implement the function `type_count(text)` below. You can easily check its correctness by comparing the output to the type count above, for example.\n",
    "\n",
    "    In [1]: print(type_count(moby_dick))\n",
    "    Out[1]: 19317\n",
    "    \n",
    "    In [2]: text = [\"a\", \"b\", \"a\", \"c\"]\n",
    "            print(type_count(text))\n",
    "    Out[1]: 3\n",
    "    \n",
    "Print out the type counts for *Moby Dick* as well as *Sense and Sensibility*."
   ]
  },
  {
   "cell_type": "code",
   "execution_count": null,
   "metadata": {
    "collapsed": true
   },
   "outputs": [],
   "source": [
    "def type_count(text):\n",
    "    # Calculate the number of word types\n",
    "    # in the text and return the number\n",
    "    # instead of -1\n",
    "    return -1"
   ]
  },
  {
   "cell_type": "markdown",
   "metadata": {},
   "source": [
    "---\n",
    "\n",
    "**1.2 in a nutshell + grading:**\n",
    "\n",
    "1. Define a function `type_count(text)` that takes as an argument a list of text and returns the number of word types.\n",
    "\n",
    "You can get a maximum of 0.5 points from this exercise. Partial points can also be awarded so please return even incomplete solutions. \n",
    "\n",
    "---"
   ]
  },
  {
   "cell_type": "markdown",
   "metadata": {},
   "source": [
    "---\n",
    "\n",
    "### Ex 1.3\n",
    "\n",
    "The function `type_count` is definitely useful, but sometimes we want to calculate the frequency of a single word type, not the overall number of types. Let's implement a function for that.\n",
    "\n",
    "In this task, you need to use a for-loop and conditionals, keep count of the frequency of the word, and wrap all of this into a nice function `frequency_of(word, text)`. In plain English your function should: **1)** Initialize an int variable (for example `frequency`) to zero for keeping count of the frequency, **2)** go through the text using a for loop, **3)** for each word in text, use an if statement to check if the word is the one we're keeping count of, **4)** increment the int variable by one if it is the same word, and **5)** return the correct int value. \n",
    "\n",
    "Finally, print out the frequencies of two words of you choice in both *Moby Dick* and *Sense and Sensibility*\n",
    "\n",
    "Some correct values for checking the correctness of your function:\n",
    "\n",
    "    In [1]: print(frequency_of(\"the\", moby_dick))\n",
    "    Out[1]: 13721\n",
    "    \n",
    "    In [1]: print(frequency_of(\"Moby\", moby_dick))\n",
    "    Out[1]: 84"
   ]
  },
  {
   "cell_type": "code",
   "execution_count": null,
   "metadata": {
    "collapsed": true
   },
   "outputs": [],
   "source": [
    "def frequency_of(word, text):\n",
    "    # Calculate the frequency of 'word'\n",
    "    # in 'text' here and return the frequency\n",
    "    # instead of -1\n",
    "    return -1\n",
    "\n",
    "# Print out a few frequencies here\n"
   ]
  },
  {
   "cell_type": "markdown",
   "metadata": {},
   "source": [
    "---\n",
    "\n",
    "**1.3 in a nutshell + grading:**\n",
    "\n",
    "1. Define a function `frequency_of(word, text)` that takes as arguments a string `word` and a list `text`, and returns the frequency of `word` in `text`.\n",
    "2. Print out the frequencies of two different words of your choice in *Moby Dick* and *Sense and Sensibility*.\n",
    "\n",
    "You can get a maximum of 0.5 points from this exercise. Partial points can also be awarded so please return even incomplete solutions. \n",
    "\n",
    "---"
   ]
  },
  {
   "cell_type": "markdown",
   "metadata": {},
   "source": [
    "---\n",
    "\n",
    "### Ex 1.4\n",
    "\n",
    "Now that you are well on our way to building our own Python toolkit for text processing, let's stop for a second and explore one problem with the frequency function. Test the function `frequency_of()` on a few words where you only change capitalization, for example \"the\" and \"The\". What's the problem with the approach? Include the answer as comments to the code cell below.\n",
    "\n",
    "Python strings offer a method `lower` that might help us here. It works as follows:\n",
    "\n",
    "    In [1]: word = \"Capitalized\"\n",
    "            print(word)\n",
    "            print(word.lower())\n",
    "            \n",
    "            is_same = (word.lower() == \"capitalized\")\n",
    "            print(is_same)\n",
    "    \n",
    "    Out[1]: Capitalized\n",
    "            capitalized\n",
    "            True\n",
    "            \n",
    "Copy your implementation of `frequency_of` from the cell above and change it to handle this problem. Rename the function  to `frequency_of_v2`. Let's make the assumption that we always only feed all-lowercase words via the '`word`' argument. \n",
    "\n",
    "Again, print out the frequencies of a few words of your choice. Make sure to test on words that only differ in case. Desired output would be something like:\n",
    "\n",
    "    In [1]: print(frequency_of_v2(\"the\", moby_dick))\n",
    "            print(frequency_of_v2(\"The\", moby_dick))\n",
    "    \n",
    "    Out[1]: 14431\n",
    "            14431"
   ]
  },
  {
   "cell_type": "code",
   "execution_count": null,
   "metadata": {
    "collapsed": true
   },
   "outputs": [],
   "source": [
    "# Written answer here as comments\n",
    "\n",
    "\n",
    "# New implementation of 'frequency_of' here\n",
    "def frequency_of_v2(word, text):\n",
    "    return -1\n",
    "\n",
    "# Print out things here\n"
   ]
  },
  {
   "cell_type": "markdown",
   "metadata": {},
   "source": [
    "---\n",
    "\n",
    "**1.4 in a nutshell + grading:**\n",
    "\n",
    "1. Discuss shortly the problems with our first implementation of `frequency_of`.\n",
    "2. Implement a new function `frequency_of_v2` for calculating word frequencies according to the discussion above.\n",
    "3. Print out a few examples of frequencies, preferably include words which only differ in capitalization.\n",
    "\n",
    "You can get a maximum of 0.5 points from this exercise. Partial points can also be awarded so please return even incomplete solutions. \n",
    "\n",
    "---"
   ]
  },
  {
   "cell_type": "markdown",
   "metadata": {},
   "source": [
    "## Part 2.\n",
    "\n",
    "In the lecture slides, slides 60 and 61 titled \"**Natural language vs. Artificial logic language**\" show some correspondences between between natural language constructs and first-order predicate logic. Let's explore how to implement some of the logical constructs in Python.\n",
    "\n",
    "---\n",
    "\n",
    "### Ex 2.1\n",
    "\n",
    "The first example in the slides is the predicate `capital`:\n",
    "\n",
    "    capital(Berlin, Germany)    “Berlin is the capital of Germany.”\n",
    "\n",
    "Your first task is to implement the logical predicate as a Python function `capital(city, country)` that returns `True` if `city` is the capital of `country`. You most likely want to use an if-statement. Make sure your function can handle at least the capitals of Germany and Finland:\n",
    "\n",
    "    In [1]: print(capital(\"Berlin\", \"Germany\"))\n",
    "            print(capital(\"Helsinki\", \"Finland\"))\n",
    "    \n",
    "    Out[1]: True\n",
    "            True\n",
    "            \n",
    "Let's assume we want to handle **all** the capitals in the world. Is there something problematic about this approach? How does your function right now handle queries that should return `False`? Answer these questions shortly as comments in the code cell.\n",
    "\n",
    "    In [1]: print(capital(\"Turku\", \"Botswana\"))\n",
    "    Out[1]: ???"
   ]
  },
  {
   "cell_type": "code",
   "execution_count": null,
   "metadata": {
    "collapsed": true
   },
   "outputs": [],
   "source": [
    "def capital(city, country)\n",
    "    return False\n"
   ]
  },
  {
   "cell_type": "markdown",
   "metadata": {},
   "source": [
    "---\n",
    "\n",
    "**2.1 in a nutshell + grading:**\n",
    "\n",
    "1. Define a function `capital(city, country)` that handles the capitals of Germany and Finland (at least).\n",
    "3. Discuss how you handle cases that should return `False` in your implementation.\n",
    "2. Discuss how this approach would scale to include all the capitals of the world.\n",
    "\n",
    "You can get a maximum of 1 point from this exercise. Partial points can also be awarded so please return even incomplete solutions. \n",
    "\n",
    "---"
   ]
  },
  {
   "cell_type": "markdown",
   "metadata": {},
   "source": [
    "### Ex 2.2\n",
    "\n",
    "In the lecture slides we saw the following example of **entailment**:\n",
    "\n",
    "    “All cats like milk.”\n",
    "    “Petteri is a cat.”\n",
    "    Therefore: “Petteri likes milk.”\n",
    "    \n",
    "In this exercise you will implement a few functions that you can use to make inferences about cats and liking milk (not only about Petteri but other cats and non-cats as well). For the purpose of making this exercise clearer, let's rearrange the premises and add one more condition:\n",
    "\n",
    "    “Petteri is a cat.”                (1)\n",
    "    “All cats like milk.”              (2)\n",
    "    Therefore: “Petteri likes milk.”   (3)\n",
    "    \n",
    "    In addition: “Only cats like milk“ (4)\n",
    "\n",
    "1. Define a function `is_cat(name)` that takes as an argument a string `name` and returns a boolean value `True/False` depending on whether `name` is a cat. Invent your own rules for deciding whether someone is a cat or not. You should have at least **3** different conditions for determining the catness of `name`. For example:\n",
    "\n",
    "       if name == \"John\" or (name[0] == \"P\" and name[-1]) == \"e\"): # Do not use these conditions\n",
    "           return True                                             # but invent your own\n",
    "\n",
    "2. Define a function `likes_milk(name)` that takes as an argument a string `name` and returns a boolean value `True/False` depending on whether `name` likes milk.\n",
    "\n",
    "3. Print out 3 examples of both, names that do not like milk, and names that do like milk.\n",
    "\n",
    "4. Why do we need the fourth condition above to make this exercise work? Answer this question as comments in the code cell."
   ]
  },
  {
   "cell_type": "code",
   "execution_count": null,
   "metadata": {
    "collapsed": true
   },
   "outputs": [],
   "source": [
    "def is_cat(name):\n",
    "    return False\n",
    "\n",
    "def likes_milk(name):\n",
    "    return False\n",
    "\n",
    "# Answer the fourth point here as a comment."
   ]
  },
  {
   "cell_type": "markdown",
   "metadata": {},
   "source": [
    "---\n",
    "\n",
    "**2.2 in a nutshell + grading:**\n",
    "\n",
    "1. Define a function `is_cat(name)` that takes as an argument a string `name` and returns a boolean value `True/False` depending on whether `name` is a cat. Invent at least 3 conditions for catness.\n",
    "2. Define a function `likes_milk(name)` that takes as an argument a string `name` and returns whether `name` likes milk.\n",
    "3. Print out 3 examples of both, names that do not like milk, and names that do like milk.\n",
    "4. Discuss the necessity of condition 4 from the point of view of the turth values returned by the function.\n",
    "\n",
    "You can get a maximum of 1 point from this exercise. Partial points can also be awarded so please return even incomplete solutions. \n",
    "\n",
    "---"
   ]
  }
 ],
 "metadata": {
  "kernelspec": {
   "display_name": "Python 3",
   "language": "python",
   "name": "python3"
  },
  "language_info": {
   "codemirror_mode": {
    "name": "ipython",
    "version": 3
   },
   "file_extension": ".py",
   "mimetype": "text/x-python",
   "name": "python",
   "nbconvert_exporter": "python",
   "pygments_lexer": "ipython3",
   "version": "3.6.1"
  }
 },
 "nbformat": 4,
 "nbformat_minor": 2
}
