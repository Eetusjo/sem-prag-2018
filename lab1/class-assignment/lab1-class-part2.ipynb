{
 "cells": [
  {
   "cell_type": "markdown",
   "metadata": {},
   "source": [
    "# Semantics and pragmatics, KIK-LG103\n",
    "## Lab session 1\n",
    "\n",
    "In this lab we will explore the connections between natural and programming languages using the Python programming language. Try to always relate the programming concepts to what you know about linguistic semantics.\n",
    "\n",
    "The following programming concepts will be introduced in this lab:\n",
    "\n",
    "* [Variables and assignment](#vars)\n",
    "* [Strings](#string)\n",
    "* [Conditionals and boolean logic](#conbo)\n",
    "* [Lists and iteration](#list)\n",
    "* [Sets](#set)\n",
    "* [Indexing and slicing](#slice)\n",
    "* [Functions](#fun)\n",
    "\n",
    "Without further ado, let's get into it."
   ]
  },
  {
   "cell_type": "markdown",
   "metadata": {},
   "source": [
    "---\n",
    "### Preparation: Hello Calculator!\n",
    "---\n",
    "\n",
    "A classic introduction to computer programming in any language is the \"Hello World!\" program. Running the program prints the message *Hello World!* on the user's screen. Another entry point found in many Python programming tutorials and books is using the programming environment as a calculator. Saluting the traditions, let's try out the two exercises here.\n",
    "\n",
    "The first code cell below consist of one line of code, the `print` function. Functions will be explained later in this lab, so don't worry about the terminology yet, but you can probably already guess what `print` does. Inside the parentheses that follow you see double quotes. Double quotes in Python indicate strings (for now, you can think 'text'). Write your message inside the quotes and press `Ctrl + Enter` to run the code cell."
   ]
  },
  {
   "cell_type": "code",
   "execution_count": null,
   "metadata": {
    "collapsed": true
   },
   "outputs": [],
   "source": [
    "print(\"\")"
   ]
  },
  {
   "cell_type": "markdown",
   "metadata": {},
   "source": [
    "For the second exercise we will do some math. The basic math operators in Python are:\n",
    "\n",
    "    +    Addition\n",
    "    -    Subtraction\n",
    "    *    Multiplication\n",
    "    /    Division\n",
    "    \n",
    "Try out some calculations in the cell below. Write the expression you want to evaluate and press `Ctrl + Enter` to execute. You should see something like this:\n",
    "\n",
    "    In [1]: 8/2\n",
    "    Out[1]: 4.0\n",
    "    \n",
    "Note: When writing complex expressions, it is often helpful (and/or necessary) to include parentheses. These work exactly as in our regular mathematical notation: \n",
    "\n",
    "    In [2]: (8+2)/5\n",
    "    Out[2]: 2.0\n",
    "\n",
    "You can also include spaces between numbers and operators to make the expression more readable."
   ]
  },
  {
   "cell_type": "code",
   "execution_count": null,
   "metadata": {
    "collapsed": true
   },
   "outputs": [],
   "source": [
    "(8 + 2)/5"
   ]
  },
  {
   "cell_type": "markdown",
   "metadata": {},
   "source": [
    "You probably now feel confident executing code cells in this notebook. In order to do something more substantial than calculating basic math expressions, we now dive into basic programming. The concepts introduced are really \"Programming 101\", and mostly independent of the language used. If you already have some background in programming, this lab should be a breeze. If you have never programmed before, Python with its simple and clean syntax is definitely a great way to get started."
   ]
  },
  {
   "cell_type": "markdown",
   "metadata": {},
   "source": [
    "---\n",
    "### Section 1: Variables, assignment and strings <a name=\"vars\"></a>\n",
    "---\n",
    "#### 1.1.Variables and assignment\n",
    "\n",
    "One of the most fundamental ideas in programming is the **variable**. A variable is simply a *piece of data* (for example text) that is linked to an *identifier*. Below we **assign** the value `\"John\"` to the identifier `'firstname'` and then print it. Assignment is done using the '**=**' symbol."
   ]
  },
  {
   "cell_type": "code",
   "execution_count": null,
   "metadata": {
    "collapsed": true
   },
   "outputs": [],
   "source": [
    "# The '#' symbols in code signal that whatever comes after is\n",
    "# a comment. Comments are meant for humans and are simply\n",
    "# ignored during the executiong of the code\n",
    "\n",
    "firstname = \"John\"    # These two lines amount to what we did above:\n",
    "print(firstname)      # print(\"John\") would give equivalent output"
   ]
  },
  {
   "cell_type": "markdown",
   "metadata": {},
   "source": [
    "The link between the contents and the identifier is arbitrary, that is, the contents are not necessarily reflected in the form. Does this sound familiar to a linguist? \n",
    "\n",
    "Leäts illustrate variables with a familiar example. Think of the pronouns. In one context the pronoun 'it' might refer to a car (\"Did you crash it?\"), in others to a cat (\"It's cute, isn't it?\"). The form 'it' has nothing to do with what a car looks like or how it functions. The same is true of variables. The name of the variable can be almost anything (excluding most special characters and some reserved words like **if** and **and**). Also, we might first assign the variable one value (\"Cathy\") and later change it to another (\"Newman\").\n",
    "\n",
    "---\n",
    "\n",
    "**Ex 1.1.1** In the code cell below, assign the name of your favorite person to some variable (for example `'favorite_person'`) and print it. This should be two lines of code. Then add two more lines where you change the value of the variable to something else and print the new value. The output of your code should look something like this:\n",
    "    \n",
    "    Cathy\n",
    "    Newman\n",
    "    \n",
    "See the code cell above for how assignment and printing was done.\n",
    "    \n",
    "---"
   ]
  },
  {
   "cell_type": "code",
   "execution_count": null,
   "metadata": {
    "collapsed": true
   },
   "outputs": [],
   "source": []
  },
  {
   "cell_type": "markdown",
   "metadata": {},
   "source": [
    "When we tried some calculations in the previous section, we always used numbers explicitly: \n",
    "\n",
    "    in [ ]: 2 + 2\n",
    "    out[ ]: 4\n",
    "\n",
    "We can also assign a numeric value to some variable and then use that in place of numbers in calculations:\n",
    "\n",
    "    in [ ]: number = 2\n",
    "            number + 3\n",
    "    out[ ]: 5\n",
    "    \n",
    "---\n",
    "\n",
    "**Ex 1.1.2** Below you see a short exchange. Your task is to first assign the variable `'your_age'` some value (for example, your age). Then assign the variable `'my_age'` the correct value so that `'my_age'` is 10 years older. Do this second assignment using the variable  `'your_age'` and addition.\n",
    "\n",
    "---"
   ]
  },
  {
   "cell_type": "code",
   "execution_count": null,
   "metadata": {
    "collapsed": true
   },
   "outputs": [],
   "source": [
    "print(\"What is your age?\")\n",
    "\n",
    "your_age = 0\n",
    "print(\"Your age is\", your_age)\n",
    "\n",
    "# Assign the right value to the variable \n",
    "# 'my_age' using the variable 'your_age'\n",
    "my_age = 0\n",
    "\n",
    "print(\"I'm ten years older than you so my age is\", my_age)"
   ]
  },
  {
   "cell_type": "markdown",
   "metadata": {},
   "source": [
    "What's the benefit of using the first variable in the assignment of the second variable? Why don't we just hard-code the right values? (For example, `your_age = 10` and `my_age = 20`) You might want to try changing the value of `'your_age'` to figure this out."
   ]
  },
  {
   "cell_type": "markdown",
   "metadata": {},
   "source": [
    "#### 1.2 Strings and data types <a name=\"string\"></a>\n",
    "\n",
    "In the Preparation section we mentioned that you can consider a string as something akin to a piece of text. More accurately, a string is a *sequence of characters*. It is one of the basic *data types*, and for obvious reasons, one that we as students of LT are very interested in. Another basic data type would be **`int`**, representing integer numbers. You already worked with ints above when you tried calculating things. We will introduce more data types along the way; for now, let's make sure the difference between strings and ints is clear.\n",
    "\n",
    "As you saw above, strings are surrounded by double quotation marks (in fact single quotes work too):\n",
    "\n",
    "    Option 1:    in [ ]: city = \"Berlin\"\n",
    "    Option 2:    in [ ]: city = 'Berlin'\n",
    "    \n",
    "ints, however, are written as plain numbers, without quotation marks, or anything else for that matter. \n",
    "\n",
    "    year = 2049\n",
    "    \n",
    "---\n",
    "\n",
    "**Ex 1.2.1** Run the cell below and inspect the output. What went wrong? Correct the code and you might figure out the meaning of life (and see why it's important to keep in mind the distinction between strings and ints).\n",
    "\n",
    "Note: **str** means the string type.\n",
    "\n",
    "---"
   ]
  },
  {
   "cell_type": "code",
   "execution_count": null,
   "metadata": {
    "collapsed": true
   },
   "outputs": [],
   "source": [
    "year = \"1984\"\n",
    "(300 + 404 + year)/64"
   ]
  },
  {
   "cell_type": "markdown",
   "metadata": {},
   "source": [
    "Clearly the original addition didn't work out all too well. Though you can't add together a string and an int, confusingly enough, the \"addition\" (+) does actually work for two or more strings. \n",
    "\n",
    "---\n",
    "\n",
    "**Ex 1.2.2** Try adding together some strings in the cell below and figure out what the operator does in this case.\n",
    "\n",
    "---"
   ]
  },
  {
   "cell_type": "code",
   "execution_count": null,
   "metadata": {
    "collapsed": true
   },
   "outputs": [],
   "source": [
    "\"a\" + \"b\" + \"c\""
   ]
  },
  {
   "cell_type": "markdown",
   "metadata": {},
   "source": [
    "In the case of the `+` operator with strings we talk about **concatenation** and not addition.\n",
    "\n",
    "Finally, to recap some of the things we learned in this section, let's put the ideas together. If you run the code cell below you will get some error messages again. The code is trying to print out the variable `'you'` but we forgot a piece of code. \n",
    "\n",
    "---\n",
    "\n",
    "**Ex 1.2.3** Add a line of code where you initialize the variable with some (string) value and try again.\n",
    "\n",
    "---"
   ]
  },
  {
   "cell_type": "code",
   "execution_count": null,
   "metadata": {
    "collapsed": true
   },
   "outputs": [],
   "source": [
    "print(\"What's your name?\")\n",
    "\n",
    "# Initialize the variable 'you' here\n",
    "\n",
    "print(\"I am talking to\", you)"
   ]
  },
  {
   "cell_type": "markdown",
   "metadata": {},
   "source": [
    "As you see we can write multiple things inside the parentheses of the `print` function, separated by commas. We are allowed to use things other than strings in print statements as well. \n",
    "\n",
    "---\n",
    "\n",
    "**Ex 1.2.4** Run the first cell below. In the second code cell, change the variable '`abrahams_age`' from string to int and try to figure out how to print out the same text as in the first cell. You might have to discard the whole variable '`sentence`' (or alternatively figure out what the function `str()` does if you feed it an integer).\n",
    "\n",
    "---"
   ]
  },
  {
   "cell_type": "code",
   "execution_count": null,
   "metadata": {
    "collapsed": true,
    "scrolled": true
   },
   "outputs": [],
   "source": [
    "# One variable containing the person's age\n",
    "abrahams_age = \"175\"\n",
    "\n",
    "# Another variable containing the sentence,\n",
    "# a concatenation of two strings\n",
    "sentence = \"Abraham died at age \" + abrahams_age\n",
    "\n",
    "# After concatenation the content of 'sentence' is:\n",
    "# \"Abraham died at age 175\"\n",
    "\n",
    "# Here we print the variable containing the\n",
    "# whole sentence\n",
    "print(sentence)"
   ]
  },
  {
   "cell_type": "code",
   "execution_count": null,
   "metadata": {
    "collapsed": true
   },
   "outputs": [],
   "source": [
    "# Change this to 'int'\n",
    "abrahams_age = \"175\"\n",
    "\n",
    "# Can we still do this?\n",
    "sentence = \"Abraham died at age \" + abrahams_age\n",
    "\n",
    "# Match the output of this print to \n",
    "# the output of the previous cell\n",
    "print(sentence)"
   ]
  },
  {
   "cell_type": "markdown",
   "metadata": {},
   "source": [
    "---\n",
    "\n",
    "### Section 2. Conditionals and boolean algebra <a name=\"conbo\"></a>\n",
    "\n",
    "---\n",
    "\n",
    "In programming, as in life, actions are often executed conditionally: \n",
    "\n",
    "    If the person looks at me and s/he's not my ex, say hello - otherwise ignore.\n",
    "    \n",
    "    If the password is correct, log in.\n",
    "    \n",
    "\"Conditional execution of actions\" sounds cumbersome and boring, though. Fortunately computer scientists have come up with a much cooler name for this concept: **Flow control**\n",
    "\n",
    "Below you see a few lines of code illustrating basic flow control. Try to figure out what each part of the code does before reading forward. You can also try changing the value of `'person_is_ex'` to `False`, or `person_name` to something else and see what happens. If you find this hard, don't worry; we'll deconstruct the code in a minute."
   ]
  },
  {
   "cell_type": "code",
   "execution_count": null,
   "metadata": {
    "collapsed": true,
    "scrolled": true
   },
   "outputs": [],
   "source": [
    "person_name = \"Uvuvwevwe\"\n",
    "person_is_ex = True\n",
    "\n",
    "if person_name == \"Uvuvwevwe\" and person_is_ex:\n",
    "    print(\"Ignoring.\")\n",
    "else:\n",
    "    print(\"Hi \" + person_name + \"!\")"
   ]
  },
  {
   "cell_type": "markdown",
   "metadata": {},
   "source": [
    "So what's unfamiliar here? There seems to be something fishy about the assignment of the variable `'person_is_ex'`. Below that, there are a few lines of code that seem like normal english with a few words highlighted (if, is, and, else). Also, what's with the whitespace in front of the print statements? Let's attack each of these points individually.\n",
    "\n",
    "#### 2.1. Boolean values\n",
    "\n",
    "As you might have guessed, the `'person_is_ex'` variable isn't a string, though it might at first glance look like one. Here we introduce a new data type: **boolean**. The boolean data type is a comfortingly simple one; it has two values, *True* and *False*. Notice the uppercase T and F. These two boolean values are the atomic elements of flow control. What separates the boolean values *True* and *False* from the strings *\"True\"* and *\"False\"* are the quotation marks around the strings.\n",
    "\n",
    "The comparison operators that return boolean values are:\n",
    "    \n",
    "    a == b        a is equal to b\n",
    "    a != b        a is not equal to b\n",
    "    a < b         a is less than to b\n",
    "    a > b         a is greater than to b\n",
    "    a <= b        a is less than or equal to to b\n",
    "    a >= b        a is greater than or equal to b\n",
    "    \n",
    "---\n",
    "\n",
    "**Ex 2.1.1** Try evaluating some comparisons in the code cell below.\n",
    "\n",
    "---"
   ]
  },
  {
   "cell_type": "code",
   "execution_count": null,
   "metadata": {
    "collapsed": true
   },
   "outputs": [],
   "source": [
    "# Notice that we do not always have to assign\n",
    "# the value we want to print to a variable and then\n",
    "# pass the variable to the print function. The print statement\n",
    "# below is a shorter way of writing:\n",
    "#     \n",
    "#     is_different = (\"John\" != \"Maggie\")  # The parentheses are here for clarity\n",
    "#     print(is_different)                  # and not actually necessary.\n",
    "#\n",
    "print(\"John\" != \"Maggie\")\n",
    "\n",
    "print(3 < 2)"
   ]
  },
  {
   "cell_type": "markdown",
   "metadata": {},
   "source": [
    "#### 2.2 Boolean algebra \n",
    "\n",
    "Performing operations on the boolean values True and False is called **boolean algebra**. We have already encountered the basic operations of boolean algebra during the lecture in the form of first-order predicate logic. The basic operations are **and**, **or**, and **not**.\n",
    "\n",
    "---\n",
    "\n",
    "**Ex 2.2.1** Evaluate your own expressions in the code cell below. You can use parentheses for clarity, and sometimes they are necessary for correct evaluation.\n",
    "\n",
    "---"
   ]
  },
  {
   "cell_type": "code",
   "execution_count": null,
   "metadata": {
    "collapsed": true
   },
   "outputs": [],
   "source": [
    "(\"John\" == \"Maggie\") or (not (3 <= 2) and (\"a\" != \"b\"))"
   ]
  },
  {
   "cell_type": "markdown",
   "metadata": {},
   "source": [
    "#### 2.3 Conditionals\n",
    "\n",
    "Next we'll look at the following construction:\n",
    "    \n",
    "    if something is True:\n",
    "        do this\n",
    "    else:\n",
    "        do that\n",
    "        \n",
    "Written in this \"pseudo-Python\", the construction is probably clear to you. Imagine yourself being in control of the execution of the code. You get to the line starting with `if` and evaluate whatever expression comes after it. If the expression is `True`, you continue to the code between the `if` and the `else` lines, otherwise you skip that part and continue after `else`.\n",
    "\n",
    "The whitespace (four spaces) is used to mark what block of code belongs under the `if` branch and which belongs under the `else` branch of the construction. This is called **block indentation**.\n",
    "\n",
    "\n",
    "Sometimes we need more flexibility in our actions instead of just a binary choice: *if this - do this, if that - do that, if that third thing - do something funny, otherwise - do whatever you want*. In Python this can be accomplished with **elif** (from else-if): \n",
    "\n",
    "    if this is True:\n",
    "        do this\n",
    "    elif that is True:\n",
    "        do that\n",
    "    elif one more thing is True:\n",
    "        do yet another thing\n",
    "    else:\n",
    "        do whatever\n",
    "        \n",
    "The program goes through the `if`s and `elif`s one by one until it finds a true case. If no true case is found, the program executes whatever code is in the `else` block."
   ]
  },
  {
   "cell_type": "markdown",
   "metadata": {},
   "source": [
    "**Ex 2.3.1** Write an if-statement with at least four branches (see last example above) that prints out reactions to different foods. For example, if the variable food is \"cucumber\", you could print out \"Yummy!\"."
   ]
  },
  {
   "cell_type": "code",
   "execution_count": 5,
   "metadata": {
    "collapsed": true
   },
   "outputs": [],
   "source": [
    "food = \"cucumber\"\n",
    "\n",
    "if food == \"eggplant\":\n",
    "    print(\"Meh.\")\n",
    "# ...and so on"
   ]
  },
  {
   "cell_type": "markdown",
   "metadata": {},
   "source": [
    "### Section 3. Lists and sets <a name=\"list\"></a>"
   ]
  },
  {
   "cell_type": "markdown",
   "metadata": {
    "collapsed": true
   },
   "source": [
    "We'll now move on to two very useful data types: **lists** and **sets**. Let's start with a motivating example; again, run the cell and see if you can figure out what the code does before reading on."
   ]
  },
  {
   "cell_type": "code",
   "execution_count": null,
   "metadata": {
    "collapsed": true,
    "scrolled": true
   },
   "outputs": [],
   "source": [
    "all_names = [\"Raphael\", \"Leonardo\", \"Donatello\", \"Michelangelo\", \"Splinter\"]\n",
    "all_names_sorted = sorted(all_names)\n",
    "\n",
    "for name in all_names_sorted:\n",
    "    print(name, \"is a good name, I like it!\")\n",
    "    \n",
    "amount_of_names = len(all_names)\n",
    "print(\"It looks like we had\", amount_of_names, \"names there.\")"
   ]
  },
  {
   "cell_type": "markdown",
   "metadata": {},
   "source": [
    "#### 3.1. Lists and iteration\n",
    "\n",
    "The very first line of code introduces the list data type. A list is nothing but an ordered collection of elements of any data type. In this case, it is a collection of strings. \"Ordered\" here means that two lists are equivalent only if they have the same elements in the same positions. Sometimes we want the set ordered in a different sense. In the code cell above, we assign to the variable `'all_names_sorted'` the original list in alphabetical order with the help of a function `'sorted'`. \n",
    "\n",
    "---\n",
    "\n",
    "**Ex 3.1.1** Experiment with sorting and the equivalence of lists in the code cell below. You can also change the contents of the lists to strings instead of ints.\n",
    "\n",
    "---"
   ]
  },
  {
   "cell_type": "code",
   "execution_count": null,
   "metadata": {
    "collapsed": true
   },
   "outputs": [],
   "source": [
    "[1, 1, 2, 3, 5, 8] != sorted( [8, 3, 1, 2, 5, 1] ) "
   ]
  },
  {
   "cell_type": "markdown",
   "metadata": {},
   "source": [
    "Next in the code (4-5) we print out a few compliments to the turtles, going through the names in alphabetical order. Going through all the elements in a list one by one is called **iteration**. The syntax for simple iteration is very intuitive in Python. This is called the for-loop:\n",
    "\n",
    "    for thing in list:\n",
    "        do the thing\n",
    "        \n",
    "As you might notice, the for-loop corresponds to the logical \"for all\", universal quantifier **$\\forall$** that we saw in the lecture. The for-loop above works in a simple way:\n",
    "\n",
    "    1. Go to the start of the list\n",
    "    2. Assign the value of the element in current position to the variable 'thing'\n",
    "    3. Execute whatever code is in the body of the for-loop\n",
    "    4 a. If we are not at the end of the list, move to next position and go back to 2.\n",
    "      b. If we are in the final position, exit the for-loop\n",
    "\n",
    "Here is an example of how we can define a variable outside the for-loop, and then use the loop to change the value of that variable:"
   ]
  },
  {
   "cell_type": "code",
   "execution_count": null,
   "metadata": {
    "collapsed": true
   },
   "outputs": [],
   "source": [
    "number = 0\n",
    "print(\"Value of number at the start:\", number)\n",
    "\n",
    "list_of_numbers = [123, 456, 789, 432, 117]\n",
    "for n in list_of_numbers:\n",
    "    number = number + n\n",
    "    \n",
    "print(\"Value of number at the end:\", number)"
   ]
  },
  {
   "cell_type": "markdown",
   "metadata": {},
   "source": [
    "---\n",
    "\n",
    "**Ex 3.1.2** Below you are given a list of characters that make up a magic word. Use a for-loop and string concatenation (\"+\" from section 1.2) to construct the word. In other words, find a way to go from a list of characters to a single string consisting of those characters: `[\"a\", \"b\", \"c\"] ==> \"abc\"`. Look at how the number was incremented in the code cell above for inspiration (`number = number + n`).\n",
    "\n",
    "---"
   ]
  },
  {
   "cell_type": "code",
   "execution_count": null,
   "metadata": {
    "collapsed": true
   },
   "outputs": [],
   "source": [
    "characters = [\"c\", \"o\", \"v\", \"f\", \"e\", \"f\", \"e\"]\n",
    "word = \"\"\n",
    "\n",
    "# Use a for-loop here\n",
    "    \n",
    "print(word)"
   ]
  },
  {
   "cell_type": "markdown",
   "metadata": {},
   "source": [
    "Finally, we used the function `len` to calculate the length of the list. `len` can also be used with strings:"
   ]
  },
  {
   "cell_type": "code",
   "execution_count": null,
   "metadata": {
    "collapsed": true,
    "scrolled": true
   },
   "outputs": [],
   "source": [
    "word = \"Capricciosa\"\n",
    "print(\"The length of the word is\", len(word), \"characters.\")"
   ]
  },
  {
   "cell_type": "markdown",
   "metadata": {},
   "source": [
    "#### 3.2 Sets <a name=\"set\"></a>\n",
    "\n",
    "Moving on from lists, let's look at some code again. If this looks like a lot, don't worry. We will explain everything along the way."
   ]
  },
  {
   "cell_type": "code",
   "execution_count": null,
   "metadata": {
    "collapsed": true
   },
   "outputs": [],
   "source": [
    "# This is one way of splitting a string into multiple lines for readability,\n",
    "# '\\' signals that the expression continues to the next line.\n",
    "sentence = \"Raphael, Leonardo, Donatello and Michelangelo \"  \\\n",
    "           \"are a bunch of mutant ninja turtles training \"  \\\n",
    "           \"under the mutant ninja rat Splinter.\"\n",
    "        \n",
    "sentence_as_list = sentence.split()\n",
    "word_types = set(sentence_as_list)\n",
    "\n",
    "print(\"A sentence (as list) about some turtles:\")\n",
    "print(sentence_as_list)\n",
    "\n",
    "# '\\n' inside the string is a newline character \n",
    "# (see that empty line in the output?)\n",
    "print(\"\\nThe set of words in the sentence:\")\n",
    "print(word_types)"
   ]
  },
  {
   "cell_type": "markdown",
   "metadata": {},
   "source": [
    "Line 7 above shows one way of turning a single string (`\"alpha beta\"`) to a list (`[\"alpha\", \"beta\"]`) with the `split` method. By default, it splits the string at whitespace. You can do more complicated stuff with it but for our purposes, this is enough. \n",
    "\n",
    "The next line (8) introduces the *set* data type. We can turn a list (`sentence_as_list`) into a set (`word_types`) using the `set` function as shown. Examine the output carefully to figure out what the difference between a set and a list is. The variable name `'word_types'` could also be a good hint.\n",
    "\n",
    "---\n",
    "\n",
    "As you probably figured out, the set is a collection of *unique* elements. Any duplicate elements in the list (*ninja, mutant*) only show up once in the set. In this case, the list can be thought of as representing the *word tokens* of the original sentence (in the original order), while the set represents the *word types* (in no particular order).\n",
    "\n",
    "We can construct a set also without the `set` function. Below is an example of how to do this with curly brackets (in contrast to lists where we use square brackets). The set is also another example of an **iterable**, that is, we can go through the elements in the set using a for-loop like we did with lists."
   ]
  },
  {
   "cell_type": "code",
   "execution_count": null,
   "metadata": {
    "collapsed": true
   },
   "outputs": [],
   "source": [
    "nice_words = {\"nice\", \"nicer\", \"nicest\"}\n",
    "for word in nice_words:\n",
    "    print(word)"
   ]
  },
  {
   "cell_type": "markdown",
   "metadata": {},
   "source": [
    "A nice thing about the `set` funtion is that we can give it things other than lists as well. \n",
    "\n",
    "---\n",
    "\n",
    "**Ex 3.2.1** Try feeding the function a string and print the elements in the set using a for-loop to see what it does.\n",
    "\n",
    "---"
   ]
  },
  {
   "cell_type": "code",
   "execution_count": null,
   "metadata": {
    "collapsed": true
   },
   "outputs": [],
   "source": [
    "example_string = \"All those moments will be lost in time, \" \\\n",
    "                 \"like tears in rain. Time to die.\"\n",
    "\n",
    "# Use the 'set' function properly here ...\n",
    "something = set()\n",
    "\n",
    "# ... and print the result out with a for loop here.\n",
    "# 'pass' is simply a placeholder that does nothing;\n",
    "# delete it and write the print statement instead.\n",
    "for thing in something:\n",
    "    pass"
   ]
  },
  {
   "cell_type": "markdown",
   "metadata": {},
   "source": [
    "Notice that the `len` function we saw earlier can be used with sets too:"
   ]
  },
  {
   "cell_type": "code",
   "execution_count": null,
   "metadata": {
    "collapsed": true
   },
   "outputs": [],
   "source": [
    "pizzas = {\"Quattro Stagioni\", \"Funghi\", \"Napolitana\"}\n",
    "print(\"It looks like there are\", len(pizzas), \"different pizzas in the set.\")"
   ]
  },
  {
   "cell_type": "markdown",
   "metadata": {},
   "source": [
    "### Section 4: Indexing and slicing <a name=\"slice\"></a>"
   ]
  },
  {
   "cell_type": "markdown",
   "metadata": {
    "collapsed": true
   },
   "source": [
    "Above we saw that you can feed both strings and lists to the `set` function and you will get out the unique elements that make up what you fed in (characters in the case of a string, strings in the case of a list of strings). The similarities between strings and lists do not end there, however. Actually, strings and lists in python are variants of an underlying abstract type, **sequence**. As a result, they share many of the operations we have already seen (for-loop also works with strings, you can concatenate lists like strings etc.) In this section we introduce two more operations that work with both lists and strings: **indexing** and **slicing**. Again, see the example code in the next cell."
   ]
  },
  {
   "cell_type": "code",
   "execution_count": null,
   "metadata": {
    "collapsed": true
   },
   "outputs": [],
   "source": [
    "sentence = [\"Louie\", \"I\", \"think\", \"this\", \"is\", \"the\",\n",
    "            \"beginning\", \"of\", \"a\", \"beautiful\", \"friendship.\"]\n",
    "\n",
    "print(\"The first word of the sentence is:\", sentence[0])\n",
    "print(\"The last word of the sentence is:\", sentence[-1])"
   ]
  },
  {
   "cell_type": "markdown",
   "metadata": {},
   "source": [
    "#### 4.1 Indexing\n",
    "\n",
    "Above we see an example of indexing, accessing a specific element of a list. A thing to keep in mind with Python is that indexing starts at **0**. Here is an illustration of the indexes of a list:\n",
    "\n",
    "    [\"Play\", \"it\", \"once\", \"Sam\"]\n",
    "       0      1      2       3\n",
    "      -4     -3     -2      -1\n",
    "      \n",
    "As you can see, you can also access an element by starting the indexing from the end.\n",
    "\n",
    "---\n",
    "\n",
    "**Ex 4.1.1** TODO\n",
    "\n",
    "---"
   ]
  },
  {
   "cell_type": "code",
   "execution_count": null,
   "metadata": {
    "collapsed": true,
    "scrolled": true
   },
   "outputs": [],
   "source": []
  },
  {
   "cell_type": "markdown",
   "metadata": {},
   "source": [
    "#### 4.2. Slicing"
   ]
  },
  {
   "cell_type": "code",
   "execution_count": null,
   "metadata": {
    "collapsed": true,
    "scrolled": true
   },
   "outputs": [],
   "source": [
    "word = \"Lazlo\"\n",
    "\n",
    "print(\"The second and third letters of the word are:\", word[1:3])\n",
    "print(\"The first four letters of the word are:\", word[:4])\n",
    "print(\"The last four letters of the word are:\", word[-4:])"
   ]
  },
  {
   "cell_type": "markdown",
   "metadata": {},
   "source": [
    "With slicing, we can access a part longer than one element of a list or a string. For example, in the first print statement above we access the second and third letters of the word using `word[1:3]`. As you might notice, picking the right indices here is an error-prone process. First of all, we must remember that the indexing starts from 0, so the index of the second element is 1. Second, in the construction for slicing `[startindex:endindex]`, the `endindex` is **exclusive**, that is, the element in that index is not taken into account. The `startindex` is inclusive, however. In other words, `word[1:3]` means '*the substring of `word` from index 1 (inclusive) to index 3 (exclusive)*'.\n",
    "\n",
    "In the second and third print statements we see that only the starting or ending index is given. If the starting index is missing, the slicing implicitly starts from the beginning of the string. If the ending index is missing, the slicing is inferred to extend to the end of the string. We can also use negative indices in slicing."
   ]
  },
  {
   "cell_type": "markdown",
   "metadata": {},
   "source": [
    "### Section 5: Functions <a name=\"fun\"></a>\n",
    "\n",
    "---\n",
    "\n",
    "We have already seen a few examples of **functions**: `len()`, `print()`, `set()`, and so on. These are so-called built-in functions, they are part of the Python stardard library. The standard library provides a wide range of basic functions, but virtually all non-trivial Python programs require the programmer to define her own functions.\n",
    "\n",
    "The best way to think about functions is that they *encapsulate* a (small) task within the larger program. A stereotypical function 1) takes in data, 2) processes the data in some way, and 3) returns the desired result. \n",
    "\n",
    "Let's use the `len` function as an example. `len` takes in a sequence (a list or a string), calculates the amount of atomic elements in the sequence (i.e. its length) and returns the length. Not every function has to return anything, however. The `print` function prints out the data to standard output and doesn't return any value.\n",
    "\n",
    "In the code cell below, we have implemented a function `ends_with`, which takes in two strings and returns `True` if `string1` ends in `string2`, and `False` if it doesn't. Look carefully at the syntax of defining a new function."
   ]
  },
  {
   "cell_type": "code",
   "execution_count": null,
   "metadata": {
    "collapsed": true
   },
   "outputs": [],
   "source": [
    "def ends_with(string1, string2):\n",
    "    # Using len() and slicing we can get the\n",
    "    # correct amount of letters from the end \n",
    "    # of the string\n",
    "    string_end = string1[-len(string2):]\n",
    "\n",
    "    return string_end == string2\n",
    "\n",
    "print(ends_with(\"string\", \"ing\"))"
   ]
  },
  {
   "cell_type": "markdown",
   "metadata": {},
   "source": [
    "Every function definition starts with the **def** statement. It consists of three parts:\n",
    "\n",
    "    def ends_with(string1, string2):\n",
    "    (1)    (2)          (3)\n",
    "    \n",
    "1. The keyword *def* signals the start of a function definition.\n",
    "2. The second element is the function name\n",
    "3. The parentheses after the name list the **arguments** the function takes in. In our example the function takes in two strings. \n",
    "\n",
    "The actual body of the function is indented with four spaces. This is where the task the function was designed to do is accomplished. The function body ends in a **return** statement. Whatever comes after return is the \"result\" we want to return to the function caller. In this case we return a boolean True/False depending on whether the condition was met or not."
   ]
  },
  {
   "cell_type": "markdown",
   "metadata": {},
   "source": [
    "---\n",
    "\n",
    "**Ex 5.0.1** Define a function `starts_with(string, start)`, which returns `True` if the string starts with a specified substring and `False` otherwise. See the implementation of `ends_with` above for help. The `None` value is simply a placeholder return value.\n",
    "\n",
    "---"
   ]
  },
  {
   "cell_type": "code",
   "execution_count": null,
   "metadata": {
    "collapsed": true
   },
   "outputs": [],
   "source": [
    "def starts_with(string1, string2):\n",
    "    string_start = string1[:len(string2)]\n",
    "    return string_start == string2\n",
    "\n",
    "    # return None\n",
    "\n",
    "print(starts_with(\"application\", \"app\"))"
   ]
  },
  {
   "cell_type": "markdown",
   "metadata": {},
   "source": [
    "Below you see another example of a function. The function `is_son_of` returns `True` if `person1` is `person2`'s son. Notice how we can use other functions within a function (we call the functions `ends_with` and `starts_with` we defined above)."
   ]
  },
  {
   "cell_type": "code",
   "execution_count": null,
   "metadata": {
    "collapsed": true
   },
   "outputs": [],
   "source": [
    "# The rule is: person1 is person2's son if person1's name \n",
    "# is person2's name plus \"son\": Peterson is the son of Peter\n",
    "def is_son_of(person1, person2):\n",
    "    condition1 = ends_with(person1, \"son\")\n",
    "    condition2 = starts_with(person1, person2)\n",
    "    \n",
    "    # both conditions need to be met\n",
    "    is_son = condition1 and condition2\n",
    "    \n",
    "    return is_son\n",
    "    \n",
    "is_son_of(\"Peterson\", \"Peter\")"
   ]
  },
  {
   "cell_type": "markdown",
   "metadata": {},
   "source": [
    "---\n",
    "\n",
    "**Ex 5.0.2** Define two functions, `is_father_of(person1, person2)` and `is_daughter_of(person1, person2)`. `is_father_of` should return a boolean in a converse case to the function `is_son_of`. `is_daughter_of` should return a boolean similarly to the function `is_son_of` but the ending should be *dottir* instead of *son*.\n",
    "\n",
    "---"
   ]
  },
  {
   "cell_type": "code",
   "execution_count": null,
   "metadata": {
    "collapsed": true
   },
   "outputs": [],
   "source": [
    "def is_father_of(person1, person2):\n",
    "    return None\n",
    "\n",
    "# Also define 'is_daughter_of' here"
   ]
  },
  {
   "cell_type": "markdown",
   "metadata": {},
   "source": [
    "---\n",
    "\n",
    "**Ex 5.0.3** Define a function `likes(person1, person2)` that returns `True` if `person1` likes `person2`. Feel free to invent your own rules. For example: `person1` likes `person2` only if `person2` is `person1`'s son. You can also define more functions that you can use as part of the `likes` function body.\n",
    "\n",
    "---"
   ]
  },
  {
   "cell_type": "code",
   "execution_count": null,
   "metadata": {
    "collapsed": true
   },
   "outputs": [],
   "source": []
  }
 ],
 "metadata": {
  "kernelspec": {
   "display_name": "Python 3",
   "language": "python",
   "name": "python3"
  },
  "language_info": {
   "codemirror_mode": {
    "name": "ipython",
    "version": 3
   },
   "file_extension": ".py",
   "mimetype": "text/x-python",
   "name": "python",
   "nbconvert_exporter": "python",
   "pygments_lexer": "ipython3",
   "version": "3.6.1"
  }
 },
 "nbformat": 4,
 "nbformat_minor": 2
}
