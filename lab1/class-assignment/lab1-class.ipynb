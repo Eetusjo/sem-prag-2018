{
 "cells": [
  {
   "cell_type": "markdown",
   "metadata": {},
   "source": [
    "# Semantics and pragmatics\n",
    "## Lab session 1\n",
    "\n",
    "The purpose of this lab is to learn the basics of Python programming. Some of the exercises will be general in nature (as in not directly related to language technology), but try to always relate the programming concepts to what we learned during the first LT lecture.\n",
    "\n",
    "The following concepts will be introduced in this lab:\n",
    "\n",
    "* [Variables and assignment](#vars)\n",
    "* [Conditionals and boolean logic](#conbo)\n",
    "* [Indentation](#indent)\n",
    "* [Strings](#string)\n",
    "* [Lists and sets](#lists)\n",
    "* [Indexing, slicing, and dicing](#slicedice)\n",
    "* [Functions](#fun)\n",
    "\n",
    "Without further ado, let's get into it."
   ]
  },
  {
   "cell_type": "markdown",
   "metadata": {},
   "source": [
    "### Preparation: Hello Calculator!\n",
    "---\n",
    "\n",
    "A classic introduction to computer programming in any language is the \"Hello World!\" program. Running the program prints the message *Hello World!* on the user's screen. Another entry point found in many Python programming tutorials and books is using the programming environment as a calculator. Saluting the traditions, let's try out the two exercises here.\n",
    "\n",
    "The first code cell below consist of one line of code, the `print` function. Functions will be explained later in this lab, so don't worry about the terminology yet, but you can probably already guess what `print` does. Inside the parentheses that follow you see double quotes. Double quotes in Python indicate strings (for now, you can think 'text'). Write your message inside the quotes and press `Ctrl + Enter` to run the code cell."
   ]
  },
  {
   "cell_type": "code",
   "execution_count": null,
   "metadata": {},
   "outputs": [],
   "source": [
    "print(\"\")"
   ]
  },
  {
   "cell_type": "markdown",
   "metadata": {},
   "source": [
    "For the second exercise we will do some math. The basic math operators in Python are:\n",
    "\n",
    "    +    Addition\n",
    "    -    Subtraction\n",
    "    *    Multiplication\n",
    "    /    Division\n",
    "    \n",
    "Try out some calculations on the cell below. Write the expression you want to evaluate and press `Ctrl + Enter` to execute. You should see something like this:\n",
    "\n",
    "    In []: 8/2\n",
    "    Out[]: 4.0\n",
    "    \n",
    "Note: When writing complex expressions, it is often helpful (and/or necessary) to include parentheses. These work exactly as in our regular mathematical notation: \n",
    "\n",
    "    In []: (8+2)/5\n",
    "    Out[]: 2.0\n",
    "\n",
    "You can also include spaces between numbers and operators to make the expression more readable."
   ]
  },
  {
   "cell_type": "code",
   "execution_count": null,
   "metadata": {},
   "outputs": [],
   "source": [
    "8/2"
   ]
  },
  {
   "cell_type": "markdown",
   "metadata": {},
   "source": [
    "You probably now feel confident in executing code cells in this notebook. In order to do something more substantial than calculating basic math expressions, we now dive into basic programming. The concepts introduced are really \"Programming 101\", and mostly independent of the language used. If you already have some background in programming, this lab should be a breeze. If you have never programmed before, Python with its simple and clean syntax is definitely a great way to get started."
   ]
  },
  {
   "cell_type": "markdown",
   "metadata": {},
   "source": [
    "### Section 1: Variables, assignment and strings <a name=\"vars\"></a>\n",
    "---\n",
    "#### 1.1. Variables and assignment\n",
    "\n",
    "**TODO**\n",
    "\n",
    "#### 1.2. Strings and data types\n",
    "\n",
    "In the Preparation section we mentioned that you can consider a string as something akin to a piece of text. More accurately, a string (**`str`** in Python) is a *sequence of characters*. It is one of the basic *data types*, and for obvious reasons, one that we as students of LT are very interested in. Another basic data type would be **`int`**, representing integer numbers. You already worked with `ints` above when you did some math. We will introduce more data types along the way; for now, let's make sure the difference between `str` and `int` is clear.\n",
    "\n",
    "As you saw above, `strs` are surrounded by double quotation marks (in fact single quotes work too):\n",
    "\n",
    "    Option 1:    city = \"Berlin\"\n",
    "    Option 2:    city = 'Berlin'\n",
    "    \n",
    "`ints`, however, are written as plain numbers, without quotation marks, or anything else for that matter. \n",
    "\n",
    "    year = 2049\n",
    "    \n",
    "**Ex 1.2.1** Run the cell below and inspect the output. What went wrong? Correct the code and you might figure out the meaning of life (and see why it's important to keep in mind the distinction between `strs` and `ints`)"
   ]
  },
  {
   "cell_type": "code",
   "execution_count": null,
   "metadata": {},
   "outputs": [],
   "source": [
    "paradise = \"1984\"\n",
    "(300 + 404 + paradise)/64"
   ]
  },
  {
   "cell_type": "markdown",
   "metadata": {},
   "source": [
    "Clearly the original addition didn't work out all too well. Though you can't add together a `str` and an `int`, confusingly enough, the \"addition\" (+) does actually work for two or more `strs`. \n",
    "\n",
    "**Ex 1.2.2** Try adding together some `strs` in the cell below and figure out what the operator does in this case."
   ]
  },
  {
   "cell_type": "code",
   "execution_count": null,
   "metadata": {
    "collapsed": true
   },
   "outputs": [],
   "source": []
  },
  {
   "cell_type": "markdown",
   "metadata": {},
   "source": [
    "In the case of the `+` operator with strings we talk about **concatenation** and not addition.\n",
    "\n",
    "Finally, to recap some of the things we learned in this section, let's put the ideas together. If you run the code cell below you will get some error messages again. The code is trying to print out the variable `'you'` but we forgot a piece of code. \n",
    "\n",
    "**Ex 1.2.3** Add a line of code where you initialize the variable with some (string) value and try again."
   ]
  },
  {
   "cell_type": "code",
   "execution_count": null,
   "metadata": {},
   "outputs": [],
   "source": [
    "print(\"What's your name?\")\n",
    "\n",
    "\n",
    "print(\"I am talking to\", you)"
   ]
  },
  {
   "cell_type": "markdown",
   "metadata": {},
   "source": [
    "As you see we can write multiple things inside the parentheses of the `print` function, separated by commas. We are allowed to use things other than strings in print statements as well. \n",
    "\n",
    "**Ex 1.2.4** Runs the first cell below. In the second code cell, change the variable '`abrahams_age`' from string to `int` and try to figure out how to print out the same text as in the first cell. You might have to discard the whole variable '`sentence`'."
   ]
  },
  {
   "cell_type": "code",
   "execution_count": null,
   "metadata": {
    "scrolled": true
   },
   "outputs": [],
   "source": [
    "# One variable containing the person's age\n",
    "abrahams_age = \"175\"\n",
    "\n",
    "# Another variable containing the sentence,\n",
    "# a concatenation of two strings\n",
    "sentence = \"Abraham died at age \" + abrahams_age\n",
    "\n",
    "# Here we print the variable containing the\n",
    "# whole sentence\n",
    "print(sentence)"
   ]
  },
  {
   "cell_type": "code",
   "execution_count": null,
   "metadata": {},
   "outputs": [],
   "source": [
    "# Change this to 'int'\n",
    "abrahams_age = \"175\"\n",
    "\n",
    "# Can we still do this?\n",
    "sentence = \"Abraham died at age \" + abrahams_age\n",
    "\n",
    "# Match the output of this print to \n",
    "# the output of the previous cell\n",
    "print(sentence)"
   ]
  },
  {
   "cell_type": "markdown",
   "metadata": {},
   "source": [
    "### Conditionals and boolean logic <a name=\"conbo\"></a>\n",
    "\n",
    "* Indentation\n",
    "* basic string processing (case)\n",
    "\n",
    "---"
   ]
  },
  {
   "cell_type": "code",
   "execution_count": null,
   "metadata": {
    "collapsed": true
   },
   "outputs": [],
   "source": []
  },
  {
   "cell_type": "markdown",
   "metadata": {},
   "source": [
    "### Lists and sets <a name=\"lists\"></a>"
   ]
  },
  {
   "cell_type": "code",
   "execution_count": null,
   "metadata": {
    "collapsed": true
   },
   "outputs": [],
   "source": []
  },
  {
   "cell_type": "markdown",
   "metadata": {},
   "source": [
    "### Indexing, slicing, and dicing <a name=\"slicedice\"></a>"
   ]
  },
  {
   "cell_type": "code",
   "execution_count": null,
   "metadata": {
    "collapsed": true
   },
   "outputs": [],
   "source": []
  },
  {
   "cell_type": "markdown",
   "metadata": {},
   "source": [
    "### Functions <a name=\"fun\"></a>"
   ]
  }
 ],
 "metadata": {
  "kernelspec": {
   "display_name": "Python 3",
   "language": "python",
   "name": "python3"
  },
  "language_info": {
   "codemirror_mode": {
    "name": "ipython",
    "version": 3
   },
   "file_extension": ".py",
   "mimetype": "text/x-python",
   "name": "python",
   "nbconvert_exporter": "python",
   "pygments_lexer": "ipython3",
   "version": "3.6.1"
  }
 },
 "nbformat": 4,
 "nbformat_minor": 2
}
