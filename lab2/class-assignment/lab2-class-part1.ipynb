{
 "cells": [
  {
   "cell_type": "markdown",
   "metadata": {
    "hide_input": false
   },
   "source": [
    "# Semantics and Pragmatics, KIK-LG103\n",
    "\n",
    "## Lab session 2, Part 1\n",
    "\n",
    "---\n",
    "\n",
    "### Section 1.1. Review\n",
    "\n",
    "In this section you can quickly review what we did in the last session. The section consists of example code that you can run (by pressing Ctrl-Enter inside the cell you want to run). You don't have to modify any code in this section. Feel free to continue directly to Section 1.2 below if you are comfortable with strings, lists and sets. \n",
    "\n",
    "\n",
    "#### Strings and lists\n",
    "\n",
    "- Splitting strings to lists\n",
    "- Iteration through lists\n",
    "- Calculating the length of a list\n",
    "\n",
    "First, let's print a sentence as a string:"
   ]
  },
  {
   "cell_type": "code",
   "execution_count": null,
   "metadata": {},
   "outputs": [],
   "source": [
    "# Assign the sentence to a variable\n",
    "sentence_as_string = \"this is just another string\"\n",
    "print(sentence_as_string)"
   ]
  },
  {
   "cell_type": "markdown",
   "metadata": {},
   "source": [
    "Next, let's split the sentence into a list. Each word in the sentence becomes an element in the list:"
   ]
  },
  {
   "cell_type": "code",
   "execution_count": null,
   "metadata": {},
   "outputs": [],
   "source": [
    "# Split string on whitespace, the result is a list\n",
    "sentence_as_list = sentence_as_string.split()\n",
    "print(sentence_as_list)"
   ]
  },
  {
   "cell_type": "markdown",
   "metadata": {},
   "source": [
    "To know how many elements there are in a list, we use the _len_ function. We typically talk about the length of a list. The length is the number of elements in the list."
   ]
  },
  {
   "cell_type": "code",
   "execution_count": null,
   "metadata": {},
   "outputs": [],
   "source": [
    "# len-function returns the length of the list\n",
    "amt_tokens = len(sentence_as_list)\n",
    "print(\"The sentence has\", amt_tokens, \"tokens.\")"
   ]
  },
  {
   "cell_type": "markdown",
   "metadata": {},
   "source": [
    "We can also determine the length of a string. How does this differ from the length of a list?"
   ]
  },
  {
   "cell_type": "code",
   "execution_count": null,
   "metadata": {},
   "outputs": [],
   "source": [
    "# len-function also returns something for the string. What does it return?\n",
    "len_of_string = len(sentence_as_string)\n",
    "print(\"The length of the sentence as a string is\", len_of_string)"
   ]
  },
  {
   "cell_type": "markdown",
   "metadata": {},
   "source": [
    "Using a _for_ loop we can iterate through a list, one element at a time. Here we go through our sentence as a list and print every word in the sentence, one by one:"
   ]
  },
  {
   "cell_type": "code",
   "execution_count": null,
   "metadata": {},
   "outputs": [],
   "source": [
    "# Iterate through the list and print every element (token)\n",
    "for token in sentence_as_list:\n",
    "    print(token)"
   ]
  },
  {
   "cell_type": "markdown",
   "metadata": {},
   "source": [
    "We can also iterate through a string. How does this differ from iterating through a list?"
   ]
  },
  {
   "cell_type": "code",
   "execution_count": null,
   "metadata": {},
   "outputs": [],
   "source": [
    "# Iterate through the string and print every element in the string. What are these elements, actually?\n",
    "for c in sentence_as_string:\n",
    "    print(c)"
   ]
  },
  {
   "cell_type": "markdown",
   "metadata": {},
   "source": [
    "#### Sets\n",
    "\n",
    "- Set as a collection of unique elements\n",
    "\n",
    "Let's look at the difference between lists and sets:"
   ]
  },
  {
   "cell_type": "code",
   "execution_count": null,
   "metadata": {},
   "outputs": [],
   "source": [
    "sentence = \"the cat saw the dog\"\n",
    "tokens_in_sentence = sentence.split()\n",
    "\n",
    "# set-function takes in a list and returns a set\n",
    "types_in_sentence = set(tokens_in_sentence)\n",
    "print(\"The set-function results in a:\", type(types_in_sentence), \"data structure.\")"
   ]
  },
  {
   "cell_type": "markdown",
   "metadata": {},
   "source": [
    "Pay attention to how the outputs of the prints differ:"
   ]
  },
  {
   "cell_type": "code",
   "execution_count": null,
   "metadata": {},
   "outputs": [],
   "source": [
    "print(\"Tokens in sentence:\", tokens_in_sentence)\n",
    "print(\"Types in sentence:\", types_in_sentence)"
   ]
  },
  {
   "cell_type": "markdown",
   "metadata": {},
   "source": [
    "Len also works with sets:"
   ]
  },
  {
   "cell_type": "code",
   "execution_count": null,
   "metadata": {},
   "outputs": [],
   "source": [
    "amt_types = len(types_in_sentence)\n",
    "print(\"The string has\", amt_types, \"types.\")"
   ]
  },
  {
   "cell_type": "markdown",
   "metadata": {},
   "source": [
    "#### Functions & Flow control\n",
    "\n",
    "- function: input $\\rightarrow$ process $\\rightarrow$ output\n",
    "- if-else statement\n",
    "- booleans\n",
    "\n",
    "Make sure that you understand what goes on in the fun function below: "
   ]
  },
  {
   "cell_type": "code",
   "execution_count": null,
   "metadata": {},
   "outputs": [],
   "source": [
    "def fun(word, list_of_words):\n",
    "    # the 'x in list' construct returns True if x\n",
    "    # is in list and False otherwise\n",
    "    if word in list_of_words:\n",
    "        print(\"'\" + word + \"' is in the list.\")\n",
    "    else:\n",
    "        print(\"'\" + word + \"' is not in the list.\")\n",
    "        \n",
    "list1 = [\"bananas\", \"excalibur\", \"fun\"]\n",
    "\n",
    "fun(\"bananas\", list1)\n",
    "fun(\"pineapple\", list1)"
   ]
  },
  {
   "cell_type": "markdown",
   "metadata": {},
   "source": [
    "---\n",
    "## Section 1.2: Objects and methods\n",
    "---\n",
    "In this section we offer a brief introduction to two new programming concepts, **objects** and **methods**. Objects and methods are fundamental in Python programming (or at least the style of programming we learn in this course), and in fact you have already worked with both of them. Let's start with a familiar example:"
   ]
  },
  {
   "cell_type": "code",
   "execution_count": null,
   "metadata": {},
   "outputs": [],
   "source": [
    "sentence = \"This is a sentence\" # This assignment creates a string object...\n",
    "\n",
    "tokens = sentence.split()       # ...and here we use a split-method\n",
    "                                # the object offers\n",
    "print(sentence)\n",
    "print(tokens)"
   ]
  },
  {
   "cell_type": "markdown",
   "metadata": {},
   "source": [
    "Whenever we assign a string to some variable, we actually create a *string object* with the specified character sequence as its contents. So what's the deal with the variable now containing an object instead of just a plain old string like we have been saying all the time? An object is simply an instantiation of some pre-defined arbitrary data structure. The definition of the structure is called a class. We won't have to define our own classes, but keep the term in mind. The class is in other words a template for creating objects of the type, and it specifies what is common between all its instantiations, leaving the details to the individual objects. For example, the definition of the string class includes something about the contents being a sequence of characters, but the specific sequence is decided only when we create a string object. \n",
    "\n",
    "As we saw in the code cell above, the `split()` is actually a method of the string. A method is a special kind of function tied to some specific class, and it is called with the dot-notation (`object.method()`). The distinction between methods and functions is subtle. You might think of functions as feeding your data to some process or machine and later gathering the result of the process for your use. In the case of methods, you tell the entity containing the data what you want of it, and the entity gives you the result. There is no reason in principle why you could not implement your own `split`-function that would take as an argument a string and return a list, and use that instead of the `split`-method.\n",
    "\n",
    "Fortunately, we have a great example of a task we can implement both as a function and a method. In the last lab session we implemented a function `ends_with(string1, string2)` that takes two arguments and returns a `boolean` indicating whether `string1` ends with `string2`. You can find the definition below. \n",
    "\n",
    "Implementing the `ends_with` function was a good illustration, but in fact unnecessary work. The Python string class already supplies a method `endswith()` that takes one string argument and returns a boolean indicating whether the string on which we are calling the method ends with the argument string."
   ]
  },
  {
   "cell_type": "code",
   "execution_count": null,
   "metadata": {
    "scrolled": false
   },
   "outputs": [],
   "source": [
    "def ends_with(string1, string2):\n",
    "    string_end = string1[-len(string2):]\n",
    "    return string_end == string2\n",
    "\n",
    "# Here we use the function we defined above\n",
    "print(ends_with(\"string\", \"ing\"))\n",
    "\n",
    "# Here we use the 'endswith' method Python strings supply\n",
    "s = \"string\"\n",
    "print(s.endswith(\"ing\"))"
   ]
  },
  {
   "cell_type": "markdown",
   "metadata": {},
   "source": [
    "In the rest of this lab we will use more complex classes and methods supplied by WordNet. Keep these ideas in mind as you work with the code."
   ]
  }
 ],
 "metadata": {
  "kernelspec": {
   "display_name": "Python 3",
   "language": "python",
   "name": "python3"
  },
  "language_info": {
   "codemirror_mode": {
    "name": "ipython",
    "version": 3
   },
   "file_extension": ".py",
   "mimetype": "text/x-python",
   "name": "python",
   "nbconvert_exporter": "python",
   "pygments_lexer": "ipython3",
   "version": "3.6.2"
  }
 },
 "nbformat": 4,
 "nbformat_minor": 2
}
